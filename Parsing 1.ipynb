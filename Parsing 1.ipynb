{
 "cells": [
  {
   "cell_type": "code",
   "execution_count": 1,
   "id": "4caac9ba",
   "metadata": {},
   "outputs": [],
   "source": [
    "#import\n",
    "import json\n",
    "import pandas as pd"
   ]
  },
  {
   "cell_type": "code",
   "execution_count": 2,
   "id": "377ea4a2",
   "metadata": {},
   "outputs": [],
   "source": [
    "# stemming process\n",
    "sentence = 'pakai bahasa Indonesia terus ngecek dulu apa namanya suaranya masuk ke Trans apa enggak Soalnya ke transfer dari tadi nama Kuto'"
   ]
  },
  {
   "cell_type": "code",
   "execution_count": 3,
   "id": "732cafd8",
   "metadata": {},
   "outputs": [],
   "source": [
    "lower_case = sentence.lower()\n",
    "Parsing = sentence.split()"
   ]
  },
  {
   "cell_type": "code",
   "execution_count": 4,
   "id": "3fcc3f17",
   "metadata": {},
   "outputs": [],
   "source": [
    "output = Parsing"
   ]
  },
  {
   "cell_type": "code",
   "execution_count": 5,
   "id": "42d31165",
   "metadata": {
    "scrolled": true
   },
   "outputs": [
    {
     "name": "stdout",
     "output_type": "stream",
     "text": [
      "['pakai', 'bahasa', 'Indonesia', 'terus', 'ngecek', 'dulu', 'apa', 'namanya', 'suaranya', 'masuk', 'ke', 'Trans', 'apa', 'enggak', 'Soalnya', 'ke', 'transfer', 'dari', 'tadi', 'nama', 'Kuto']\n"
     ]
    }
   ],
   "source": [
    "print(output)"
   ]
  },
  {
   "cell_type": "code",
   "execution_count": null,
   "id": "1d93d577",
   "metadata": {},
   "outputs": [],
   "source": []
  }
 ],
 "metadata": {
  "kernelspec": {
   "display_name": "Python 3",
   "language": "python",
   "name": "python3"
  },
  "language_info": {
   "codemirror_mode": {
    "name": "ipython",
    "version": 3
   },
   "file_extension": ".py",
   "mimetype": "text/x-python",
   "name": "python",
   "nbconvert_exporter": "python",
   "pygments_lexer": "ipython3",
   "version": "3.8.8"
  }
 },
 "nbformat": 4,
 "nbformat_minor": 5
}
