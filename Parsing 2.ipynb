{
 "cells": [
  {
   "cell_type": "code",
   "execution_count": 1,
   "id": "4bef67c2",
   "metadata": {},
   "outputs": [],
   "source": [
    "import json\n",
    "import pandas as pd"
   ]
  },
  {
   "cell_type": "code",
   "execution_count": 2,
   "id": "7b7f1583",
   "metadata": {},
   "outputs": [],
   "source": [
    "file = pd.read_excel('task.xlsx')"
   ]
  },
  {
   "cell_type": "code",
   "execution_count": 3,
   "id": "8adede08",
   "metadata": {},
   "outputs": [
    {
     "name": "stdout",
     "output_type": "stream",
     "text": [
      "    Nama                      word\n",
      "0  andri            selamat siang.\n",
      "1  andri                     halo.\n",
      "2  andri                    Nindy.\n",
      "3  andri      toko baju sing melu.\n",
      "4  andri  Kenalkan nama saya Joko.\n",
      "5   yoga              cek cek cek.\n"
     ]
    }
   ],
   "source": [
    "print(file)"
   ]
  },
  {
   "cell_type": "code",
   "execution_count": 4,
   "id": "da20db62",
   "metadata": {},
   "outputs": [],
   "source": [
    "js = file.to_json(orient = 'columns')"
   ]
  },
  {
   "cell_type": "code",
   "execution_count": 5,
   "id": "ffb25d6c",
   "metadata": {},
   "outputs": [
    {
     "name": "stdout",
     "output_type": "stream",
     "text": [
      "{\"Nama\":{\"0\":\"andri\",\"1\":\"andri\",\"2\":\"andri\",\"3\":\"andri\",\"4\":\"andri\",\"5\":\"yoga\"},\"word\":{\"0\":\"selamat siang.\",\"1\":\"halo.\",\"2\":\"Nindy.\",\"3\":\"toko baju sing melu.\",\"4\":\"Kenalkan nama saya Joko.\",\"5\":\"cek cek cek.\"}}\n"
     ]
    }
   ],
   "source": [
    "print(js)"
   ]
  },
  {
   "cell_type": "code",
   "execution_count": 1,
   "id": "cfeab1b9",
   "metadata": {},
   "outputs": [
    {
     "name": "stdout",
     "output_type": "stream",
     "text": [
      "Collecting python-docx\n",
      "  Downloading python-docx-0.8.11.tar.gz (5.6 MB)\n",
      "Requirement already satisfied: lxml>=2.3.2 in c:\\users\\fikri\\anaconda3\\lib\\site-packages (from python-docx) (4.6.3)\n",
      "Building wheels for collected packages: python-docx\n",
      "  Building wheel for python-docx (setup.py): startedNote: you may need to restart the kernel to use updated packages.\n",
      "\n",
      "  Building wheel for python-docx (setup.py): finished with status 'done'\n",
      "  Created wheel for python-docx: filename=python_docx-0.8.11-py3-none-any.whl size=184600 sha256=e061baf659089b456dc243e232359d1be6dea37e699ca2e048434f2f7327e655\n",
      "  Stored in directory: c:\\users\\fikri\\appdata\\local\\pip\\cache\\wheels\\32\\b8\\b2\\c4c2b95765e615fe139b0b17b5ea7c0e1b6519b0a9ec8fb34d\n",
      "Successfully built python-docx\n",
      "Installing collected packages: python-docx\n",
      "Successfully installed python-docx-0.8.11\n"
     ]
    }
   ],
   "source": [
    "pip install --pre python-docx"
   ]
  },
  {
   "cell_type": "code",
   "execution_count": null,
   "id": "5c14da12",
   "metadata": {},
   "outputs": [],
   "source": []
  }
 ],
 "metadata": {
  "kernelspec": {
   "display_name": "Python 3",
   "language": "python",
   "name": "python3"
  },
  "language_info": {
   "codemirror_mode": {
    "name": "ipython",
    "version": 3
   },
   "file_extension": ".py",
   "mimetype": "text/x-python",
   "name": "python",
   "nbconvert_exporter": "python",
   "pygments_lexer": "ipython3",
   "version": "3.8.8"
  }
 },
 "nbformat": 4,
 "nbformat_minor": 5
}
