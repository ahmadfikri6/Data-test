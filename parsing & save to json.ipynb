{
 "cells": [
  {
   "cell_type": "code",
   "execution_count": 1,
   "id": "c4630b9e",
   "metadata": {},
   "outputs": [],
   "source": [
    "import re\n",
    "import json\n",
    "import os\n",
    "import docx"
   ]
  },
  {
   "cell_type": "code",
   "execution_count": 6,
   "id": "dfca4519",
   "metadata": {},
   "outputs": [],
   "source": [
    "r = {\"andri\":\"pakai bahasa Indonesia terus ngecek dulu apa namanya suaranya masuk ke Trans apa enggak Soalnya ke transfer dari tadi nama Kuto.\"}"
   ]
  },
  {
   "cell_type": "code",
   "execution_count": 7,
   "id": "cd6105bd",
   "metadata": {},
   "outputs": [
    {
     "name": "stdout",
     "output_type": "stream",
     "text": [
      "{\n",
      "    \"andri\" : \"pakai bahasa Indonesia terus ngecek dulu apa namanya suaranya masuk ke Trans apa enggak Soalnya ke transfer dari tadi nama Kuto.\"\n",
      "}\n"
     ]
    }
   ],
   "source": [
    "print(json.dumps(r, indent= 4, separators=(\". \",\" : \")))"
   ]
  },
  {
   "cell_type": "code",
   "execution_count": 8,
   "id": "1adcd5b2",
   "metadata": {},
   "outputs": [
    {
     "name": "stdout",
     "output_type": "stream",
     "text": [
      "{'andri': 'pakai bahasa Indonesia terus ngecek dulu apa namanya suaranya masuk ke Trans apa enggak Soalnya ke transfer dari tadi nama Kuto.'}\n"
     ]
    }
   ],
   "source": [
    "print(r)"
   ]
  },
  {
   "cell_type": "code",
   "execution_count": 9,
   "id": "e3454cdb",
   "metadata": {
    "scrolled": true
   },
   "outputs": [],
   "source": [
    "doc = open(\"Record.docx\",\"rb\")\n",
    "\n",
    "# membuat word reader object\n",
    "document = docx.Document(doc)\n",
    "\n",
    "#membuat variabel yang kosong untuk temporary\n",
    "docu=\"\"\n",
    "for para in document.paragraphs:\n",
    "       docu += para.text\n"
   ]
  },
  {
   "cell_type": "code",
   "execution_count": 10,
   "id": "2f77e755",
   "metadata": {},
   "outputs": [],
   "source": [
    "sentences = re.findall(r'^\"(.*)\"$',docu)\n",
    "for i in sentences:\n",
    "    print (i)"
   ]
  },
  {
   "cell_type": "code",
   "execution_count": 11,
   "id": "ce3374d7",
   "metadata": {},
   "outputs": [],
   "source": [
    "sentencee = re.findall(r'([a-zA-Z]+)\\:([\\w]+[\\D]+\\.)',docu)"
   ]
  },
  {
   "cell_type": "code",
   "execution_count": 12,
   "id": "16a6742c",
   "metadata": {},
   "outputs": [
    {
     "name": "stdout",
     "output_type": "stream",
     "text": [
      "('nama :andri', 'isi :selamat siang.')\n",
      "('nama :andri', 'isi :halo.')\n",
      "('nama :andri', 'isi :Nindy.')\n",
      "('nama :andri', 'isi :toko baju sing melu.')\n",
      "('nama :andri', 'isi :Kenalkan nama saya Joko.')\n",
      "('nama :yoga', 'isi :cek cek cek.')\n",
      "('nama :andri', 'isi :ngomong opo.')\n",
      "('nama :andri', 'isi :Terjemahkan sini terus ngomong sih.')\n",
      "('nama :andri', 'isi :pakai bahasa Indonesia terus ngecek dulu apa namanya suaranya masuk ke Trans apa enggak Soalnya ke transfer dari tadi nama Kuto.')\n",
      "('nama :andri', 'isi :10 detik aja Udin.')\n",
      "('nama :andri', 'isi :bentar ya.')\n",
      "('nama :andri', 'isi :Yoga.')\n",
      "('nama :andri', 'isi :ini Mas sama-sama ya.')\n",
      "('nama :yoga', 'isi :halo.')\n",
      "('nama :yoga', 'isi :Udan deres karo angin.')\n",
      "('nama :andri', 'isi :cuaca.')\n",
      "('nama :andri', 'isi :kau keong racun.')\n",
      "('nama :andri', 'isi :telur.')\n",
      "('nama :andri', 'isi :selamat sore.')\n",
      "('nama :yoga', 'isi :selamat.')\n",
      "('nama :andri', 'isi :Ayo kita ke angkringan sebelah.')\n",
      "('nama :muizz', 'isi :selamat sore.')\n",
      "('nama :muizz', 'isi :Horas bah.')\n",
      "('nama :muizz', 'isi :aku teh.')\n",
      "('nama :andri', 'isi :mungkin ini akan segera dimulai.')\n",
      "('nama :andri', 'isi :untuk mempersiapkan diri.')\n",
      "('nama :muizz', 'isi :cek cek.')\n",
      "('nama :muizz', 'isi :Halo Halo Neng.')\n",
      "('nama :muizz', 'isi :internet tekan orang.')\n",
      "('nama :muizz', 'isi :Nikki Bella.')\n",
      "('nama :andri', 'isi :bentar aku ngecek dulu ya Tes tes tes.')\n",
      "('nama :muizz', 'isi :Assalamualaikum warahmatullahi wabarakatuh.')\n",
      "('nama :rahmad', 'isi :saya.')\n",
      "('nama :muizz', 'isi :lebay aku.')\n",
      "('nama :rahmad', 'isi :kurang Tengah kok.')\n",
      "('nama :rahmad', 'isi :gantian.')\n",
      "('nama :rahmad', 'isi :kurang Tengah ini adalah pertemuan awal untuk.')\n",
      "('nama :muizz', 'isi :kurang Tengah ini adalah pertemuan awal untuk proyek Dhani.')\n",
      "('nama :rahmad', 'isi :hanya untuk membuat kita saling mengenal saya Laura dan saya manajer proyek mau-mau memperkenalkan diri lagi.')\n",
      "('nama :rahmad', 'isi :mulai.')\n",
      "('nama :rahmad', 'isi :ulang ulang ulang ulang.')\n",
      "('nama :rahmad', 'isi :mau memperkenalkan diri lagi.')\n",
      "('nama :andri', 'isi :Hai saya David dan Raya seharusnya menjadi disainer industri.')\n",
      "('nama :muizz', 'isi :Saya baik dan saya antarmuka pengguna.')\n",
      "('nama :rahmad', 'isi :kami merancang remote control baru dan harus merekam Siapa sebenarnya yang ada di sini.')\n",
      "('nama :rahmad', 'isi :embrio dan trik bukan dan anda semua tiba tepat waktu.')\n",
      "('nama :rahmad', 'isi :remote control baru seperti yang Anda lihat itu seharusnya asli trendy dan ramah pengguna jadi itu singkat kami seolah-olah dan jadi ada tiga tahap yang berbeda untuk desain Saya tidak benar-benar apa yang telah anda terima di email anda.')\n",
      "('nama :rahmad', 'isi :apa yang kamu dapatkan.')\n",
      "('nama :rahmad', 'isi :Apakah itu yang semua orang dapatkan.')\n",
      "('nama :yoga', 'isi :pikir keluarga saya.')\n",
      "('nama :muizz', 'isi :berada di atas sana bersama mereka.')\n",
      "('nama :andri', 'isi :ada terlalu banyak peralatan.')\n",
      "('nama :rahmad', 'isi :Anda dapat mengambil selama ini yang anda suka karena kita tidak punya banyak hal untuk dibahas.')\n",
      "('nama :yoga', 'isi :bisa memberitahu anda lebih banyak tentang anjing.')\n",
      "('nama :yoga', 'isi :Tiger.')\n",
      "('nama :rahmad', 'isi :Kenapa tidak kita mungkin harus membangunkanmu lagi.')\n",
      "('nama :yoga', 'isi :biarkan aku memberitahumu.')\n",
      "('nama :rahmad', 'isi :familiku Aku Harus berpikir di tempat sekarang apakah itu Paus.')\n",
      "('nama :andri', 'isi :lagi pula itu hanya hewan pertama yang berpikir dari atas kepalaku.')\n",
      "('nama :andri', 'isi :alasan utamanya adalah karena saya alergi terhadap sebagian besar hewan terhadap bulu binatang jadi ikan adalah pilihan alami dan seperti ikan paus mereka masuk dan pergi makan segala sesuatu yang terlihat dan mereka cukup tidak berbahaya dan ringan dan menarik.')\n",
      "('nama :rahmad', 'isi :apa yang saya akan menulis tentang.')\n",
      "('nama :yoga', 'isi :yang luar biasa omong-omong.')\n",
      "('nama :andri', 'isi :agak besar.')\n",
      "('nama :rahmad', 'isi :akan memilih anjing sebagai tapi saya hanya akan menggambar anjing yang berbeda hewan favorit saya adalah anjing saya sendiri di rumah.')\n",
      "('nama :yoga', 'isi :melihat anjing disana.')\n",
      "('nama :rahmad', 'isi :sangat baik darimu.')\n",
      "('nama :yoga', 'isi :sekarang lihat ayam jago.')\n",
      "('nama :rahmad', 'isi :campuran dari berbagai hal dan apa yang disukai tentang dia itu hanya untuk menunjukkan bahwa ekornya bergoyang Dia sangat ramah dan ceria dan selalu senang melihat anda dan sangat penyayang dan dia cukup kecil sehingga dia tidak memakan terlalu banyak ruang dan dia melakukan hal lucu dimana dia mengejar ekornya yang cukup jadi begitulah.')\n",
      "('nama :yoga', 'isi :Apakah dia sadar bahwa itu adalah ekor hanya sendiri yang dia kejar.')\n",
      "('nama :rahmad', 'isi :hanya melakukan Setelah dia makan malam dan dia akan tiba-tiba bangun dan mulai mengejar ekornya di sekitar ruang tamu.')\n",
      "('nama :rahmad', 'isi :itu anjing.')\n",
      "('nama :andri', 'isi :itu anjing setelah makan malam.')\n",
      "('nama :yoga', 'isi :mungkin ketika dia masih kecil dia mendapat banyak Perhatian untuk melakukannya.')\n",
      "('nama :yoga', 'isi :dan telah selamanya dikondisikan.')\n",
      "('nama :rahmad', 'isi :membahas pembiayaan proyek.')\n",
      "('nama :rahmad', 'isi :itu pertanyaan yang bagus.')\n",
      "('nama :rahmad', 'isi :mainkan itu mungkin penjualan Kami sebenarnya karena mungkin terserah pengecer untuk menjualnya dengan harga berapa pun yang mereka inginkan tapi apakah menurut fakta bahwa itu akan dijual secara internasional dan akan berpengaruh pada Bagaimana kami mendesain ya.')\n",
      "('nama :rahmad', 'isi :daerah dan.')\n",
      "('nama :yoga', 'isi :frekuensi sebagai karakter gaya dan simbol keypad yang berbeda.')\n",
      "('nama :rahmad', 'isi :frekuensi sebagai karakter gaya yang berbeda.')\n",
      "('nama :rahmad', 'isi :remote control kira-kira itu tergantung seberapa rumit remot kontrol kita.')\n",
      "('nama :andri', 'isi :itu masuk akal dari sudut pandang desain karena memiliki karakter yang lebih rumit seperti bahasa Eropa.')\n",
      "('nama :andri', 'isi :maka anda memerlukan lebih banyak tombol Jadi mungkin.')\n",
      "('nama :yoga', 'isi :dan kemudian semua hal internasional lainnya berada diatas harga.')\n",
      "('nama :yoga', 'isi :mungkin menarik untuk pasar tertentu di suatu wilayah sedangkan di wilayah lain akan berbeda.')\n",
      "('nama :yoga', 'isi :statistik dari posisi Podi produk dasar yang adil atau sama.')\n",
      "('nama :yoga', 'isi :suatu sesuatu seperti itu.')\n",
      "('nama :rahmad', 'isi :seperti dalam hal seperti kekayaan negara seperti seberapa banyak uang yang harus dikeluarkan orang untuk hal-hal seperti.')\n",
      "('nama :rahmad', 'isi :harus menulis semua ini.')\n",
      "('nama :yoga', 'isi :jauh saya membuat beberapa asumsi tentang informasi.')\n",
      "('nama :yoga', 'isi :apa yang kami berikan disini berpikir trendy mungkin berarti sesuatu yang lain dari sekedar dasar sesuatu yang lain dari sekedar standar.')\n",
      "('nama :rahmad', 'isi :seperti Berapa biaya remote control.')\n",
      "('nama :rahmad', 'isi :ada yang punya sesuatu untuk ditambahkan ke masalah keuangan.')\n",
      "('nama :yoga', 'isi :Apakah kita memiliki informasi latar belakang lain seperti bagaimana dibandingkan dengan yang lain.')\n",
      "('nama :rahmad', 'isi :sebenarnya yang akan berguna meskipun bukan jika anda tahu seperti apa uang anda yang akan mendapat.')\n",
      "('nama :yoga', 'isi :hal yang menarik tentang mendiskusikan produksi remote control bagi saya adalah bahwa Seperti yang anda tunjukkan Jangan menganggap remote control sebagai sesuatu yang secara sadar dinilai orang dalam kebiasaan pembelian mereka.')\n",
      "('nama :yoga', 'isi :seperti mendapatkan tali sepatu dengan sepatu.')\n",
      "('nama :yoga', 'isi :itu datang begitu saja.')\n",
      "('nama :rahmad', 'isi :5 menit Menuju Akhir pertemuan kita sedikit di belakang.')\n",
      "('nama :yoga', 'isi :seperti Bagaimana anda salah satu cara untuk melihatnya orang-orang memproduksi televisi mereka harus membeli remote control atau cara lain adalah orang-orang memilih TV set benar-benar muak dengan remote control mereka dan mereka benar-benar menginginkan yang lebih baik.')\n",
      "('nama :muizz', 'isi :bagi mereka itu hanya beberapa banyak perangkat kontrol.')\n",
      "('nama :yoga', 'isi :jadi jadi dalam fungsi salah satu prioritas mungkin untuk menggabungkan banyak kegunaan jadi.')\n",
      "('nama :rahmad', 'isi :jadi Menurut Anda itu harus seperti tujuan desain utama remote control kami.')\n",
      "('nama :yoga', 'isi :seperti yang bisa kita gunakan adalah seperti contoh teknologi bagian lain yang sukses adalah pilot sawit.')\n",
      "('nama :yoga', 'isi :berubah dari hanya.')\n",
      "('nama :yoga', 'isi :segalanya agenda.')\n",
      "('nama :rahmad', 'isi :bahkan seperti catatan tentang apa yang ingin anda tonton.')\n",
      "('nama :yoga', 'isi :seperti secara pribadi bagi saya di rumah saya telah menggabungkan video audio dari pesawat Televisi saya.')\n",
      "('nama :yoga', 'isi :bahwa kemudian mereka ada di sana suara dan semuanya itu hanya satu sistem.')\n",
      "('nama :yoga', 'isi :bagian kecilnya sendiri.')\n",
      "('nama :rahmad', 'isi :akan baik.')\n",
      "('nama :rahmad', 'isi :ingin ditambah apa yang tidak mereka sukai tentang kendali jarak jauh yang telah mereka gunakan Apa yang sebenarnya mereka inginkan untuk menjadi bagian dari yang baru ini.')\n",
      "('nama :andri', 'isi :dengan canda terus kehilangan mereka.')\n",
      "('nama :rahmad', 'isi :terus kehilangan mereka.')\n",
      "('nama :andri', 'isi :kamu kan mereka benar-benar menyakitkan itu biasanya cukup kecil atau Ketika anda menginginkannya itu tergelincir di belakang sofa atau ditendang di bawah meja.')\n",
      "('nama :rahmad', 'isi :bukan mereka belajar menyakitkan biasanya kecil atau.')\n",
      "('nama :rahmad', 'isi :Anda mendapatkan orang-orang Dimana anda bisa jika anda suka bersiul atau membuat suara bernada sangat tinggi mereka berbunyi B.')\n",
      "('nama :yoga', 'isi :itu hanya ide yang sangat bagus.')\n",
      "('nama :rahmad', 'isi :ada sesuatu yang ingin kami sertakan menurut anda.')\n",
      "('nama :yoga', 'isi :ingat ketika remote control pertama yang dimiliki keluarga saya menggunakan kabel.')\n",
      "('nama :yoga', 'isi :tentang apa mereka sekarang itu lebih baik tapi sebenarnya masih seperti barang rongsokan besar di atas meja.')\n",
      "('nama :rahmad', 'isi :masih terasa cukup primitif.')\n",
      "('nama :yoga', 'isi :kita bisa memikirkan bagaimana biar bisa lebih efisien.')\n",
      "('nama :rahmad', 'isi :layar sentuh.')\n",
      "('nama :rahmad', 'isi :terserah designer industri kami.')\n",
      "('nama :rahmad', 'isi :itu terlihat lebih baik.')\n",
      "('nama :rahmad', 'isi :sekarang dan nanti sebagai desainer industri anda akan mengerjakan desain kerja yang sebenarnya jadi apa yang anda lakukan di sana untuk antarmuka pengguna fungsi teknis seperti yang telah kita bicarakan Apa yang sebenarnya anda lakukan dalam eksekutif pemasaran anda hanya akan berpikir tentang apa sebenarnya itu persyaratan apa yang harus dipenuhi dan semua akan mendapatkan instruksi yang dikirim melalui email kepada anda.')\n",
      "('nama :rahmad', 'isi :fungsional berikutnya dan itulah akhir pertemuan jadi dapatkan pesan kecil itu lebih cepat dari yang seharusnya jadi.')\n",
      "('nama :yoga', 'isi :belum kita selesai.')\n",
      "('nama :yoga', 'isi :beri contoh mesin kopi.')\n",
      "('nama :yoga', 'isi :kita sekarang berada pada asumsi bahwa remote control televisi kita mungkin memiliki fitur yang melampaui televisi atau apakah kita menjaga komitmen desain seperti fitur televisi.')\n",
      "('nama :rahmad', 'isi :saya sangat cepat karena kita harus menyelesaikannya sekarang.')\n",
      "('nama :rahmad', 'isi :itu terserah kami anda mungkin ingin beberapa nilai jual yang unik jadi.')\n",
      "('nama :andri', 'isi :salah satu faktornya adalah biaya produksi.')\n",
      "('nama :andri', 'isi :karena ada batasnya Jadi tergantung seberapa banyak Anda bisa menjejalkan kedalam harga itu bahwa itu mau.')\n",
      "('nama :rahmad', 'isi :kita kan itu pakai pertemuan kemudian.')\n",
      "('nama :rahmad', 'isi :semua untuk datang.')\n"
     ]
    }
   ],
   "source": [
    "for i in sentencee:\n",
    "    name_test = \"nama :\"\n",
    "    isi_test = \"isi :\"\n",
    "    name_test += i[0]\n",
    "    isi_test += i[1]\n",
    "\n",
    "    datax = (name_test, isi_test )\n",
    "    print (datax)"
   ]
  },
  {
   "cell_type": "code",
   "execution_count": 13,
   "id": "d8235d29",
   "metadata": {
    "scrolled": true
   },
   "outputs": [
    {
     "name": "stdout",
     "output_type": "stream",
     "text": [
      "[[\"andri\", \"selamat siang.\"], [\"andri\", \"halo.\"], [\"andri\", \"Nindy.\"], [\"andri\", \"toko baju sing melu.\"], [\"andri\", \"Kenalkan nama saya Joko.\"], [\"yoga\", \"cek cek cek.\"], [\"andri\", \"ngomong opo.\"], [\"andri\", \"Terjemahkan sini terus ngomong sih.\"], [\"andri\", \"pakai bahasa Indonesia terus ngecek dulu apa namanya suaranya masuk ke Trans apa enggak Soalnya ke transfer dari tadi nama Kuto.\"], [\"andri\", \"10 detik aja Udin.\"], [\"andri\", \"bentar ya.\"], [\"andri\", \"Yoga.\"], [\"andri\", \"ini Mas sama-sama ya.\"], [\"yoga\", \"halo.\"], [\"yoga\", \"Udan deres karo angin.\"], [\"andri\", \"cuaca.\"], [\"andri\", \"kau keong racun.\"], [\"andri\", \"telur.\"], [\"andri\", \"selamat sore.\"], [\"yoga\", \"selamat.\"], [\"andri\", \"Ayo kita ke angkringan sebelah.\"], [\"muizz\", \"selamat sore.\"], [\"muizz\", \"Horas bah.\"], [\"muizz\", \"aku teh.\"], [\"andri\", \"mungkin ini akan segera dimulai.\"], [\"andri\", \"untuk mempersiapkan diri.\"], [\"muizz\", \"cek cek.\"], [\"muizz\", \"Halo Halo Neng.\"], [\"muizz\", \"internet tekan orang.\"], [\"muizz\", \"Nikki Bella.\"], [\"andri\", \"bentar aku ngecek dulu ya Tes tes tes.\"], [\"muizz\", \"Assalamualaikum warahmatullahi wabarakatuh.\"], [\"rahmad\", \"saya.\"], [\"muizz\", \"lebay aku.\"], [\"rahmad\", \"kurang Tengah kok.\"], [\"rahmad\", \"gantian.\"], [\"rahmad\", \"kurang Tengah ini adalah pertemuan awal untuk.\"], [\"muizz\", \"kurang Tengah ini adalah pertemuan awal untuk proyek Dhani.\"], [\"rahmad\", \"hanya untuk membuat kita saling mengenal saya Laura dan saya manajer proyek mau-mau memperkenalkan diri lagi.\"], [\"rahmad\", \"mulai.\"], [\"rahmad\", \"ulang ulang ulang ulang.\"], [\"rahmad\", \"mau memperkenalkan diri lagi.\"], [\"andri\", \"Hai saya David dan Raya seharusnya menjadi disainer industri.\"], [\"muizz\", \"Saya baik dan saya antarmuka pengguna.\"], [\"rahmad\", \"kami merancang remote control baru dan harus merekam Siapa sebenarnya yang ada di sini.\"], [\"rahmad\", \"embrio dan trik bukan dan anda semua tiba tepat waktu.\"], [\"rahmad\", \"remote control baru seperti yang Anda lihat itu seharusnya asli trendy dan ramah pengguna jadi itu singkat kami seolah-olah dan jadi ada tiga tahap yang berbeda untuk desain Saya tidak benar-benar apa yang telah anda terima di email anda.\"], [\"rahmad\", \"apa yang kamu dapatkan.\"], [\"rahmad\", \"Apakah itu yang semua orang dapatkan.\"], [\"yoga\", \"pikir keluarga saya.\"], [\"muizz\", \"berada di atas sana bersama mereka.\"], [\"andri\", \"ada terlalu banyak peralatan.\"], [\"rahmad\", \"Anda dapat mengambil selama ini yang anda suka karena kita tidak punya banyak hal untuk dibahas.\"], [\"yoga\", \"bisa memberitahu anda lebih banyak tentang anjing.\"], [\"yoga\", \"Tiger.\"], [\"rahmad\", \"Kenapa tidak kita mungkin harus membangunkanmu lagi.\"], [\"yoga\", \"biarkan aku memberitahumu.\"], [\"rahmad\", \"familiku Aku Harus berpikir di tempat sekarang apakah itu Paus.\"], [\"andri\", \"lagi pula itu hanya hewan pertama yang berpikir dari atas kepalaku.\"], [\"andri\", \"alasan utamanya adalah karena saya alergi terhadap sebagian besar hewan terhadap bulu binatang jadi ikan adalah pilihan alami dan seperti ikan paus mereka masuk dan pergi makan segala sesuatu yang terlihat dan mereka cukup tidak berbahaya dan ringan dan menarik.\"], [\"rahmad\", \"apa yang saya akan menulis tentang.\"], [\"yoga\", \"yang luar biasa omong-omong.\"], [\"andri\", \"agak besar.\"], [\"rahmad\", \"akan memilih anjing sebagai tapi saya hanya akan menggambar anjing yang berbeda hewan favorit saya adalah anjing saya sendiri di rumah.\"], [\"yoga\", \"melihat anjing disana.\"], [\"rahmad\", \"sangat baik darimu.\"], [\"yoga\", \"sekarang lihat ayam jago.\"], [\"rahmad\", \"campuran dari berbagai hal dan apa yang disukai tentang dia itu hanya untuk menunjukkan bahwa ekornya bergoyang Dia sangat ramah dan ceria dan selalu senang melihat anda dan sangat penyayang dan dia cukup kecil sehingga dia tidak memakan terlalu banyak ruang dan dia melakukan hal lucu dimana dia mengejar ekornya yang cukup jadi begitulah.\"], [\"yoga\", \"Apakah dia sadar bahwa itu adalah ekor hanya sendiri yang dia kejar.\"], [\"rahmad\", \"hanya melakukan Setelah dia makan malam dan dia akan tiba-tiba bangun dan mulai mengejar ekornya di sekitar ruang tamu.\"], [\"rahmad\", \"itu anjing.\"], [\"andri\", \"itu anjing setelah makan malam.\"], [\"yoga\", \"mungkin ketika dia masih kecil dia mendapat banyak Perhatian untuk melakukannya.\"], [\"yoga\", \"dan telah selamanya dikondisikan.\"], [\"rahmad\", \"membahas pembiayaan proyek.\"], [\"rahmad\", \"itu pertanyaan yang bagus.\"], [\"rahmad\", \"mainkan itu mungkin penjualan Kami sebenarnya karena mungkin terserah pengecer untuk menjualnya dengan harga berapa pun yang mereka inginkan tapi apakah menurut fakta bahwa itu akan dijual secara internasional dan akan berpengaruh pada Bagaimana kami mendesain ya.\"], [\"rahmad\", \"daerah dan.\"], [\"yoga\", \"frekuensi sebagai karakter gaya dan simbol keypad yang berbeda.\"], [\"rahmad\", \"frekuensi sebagai karakter gaya yang berbeda.\"], [\"rahmad\", \"remote control kira-kira itu tergantung seberapa rumit remot kontrol kita.\"], [\"andri\", \"itu masuk akal dari sudut pandang desain karena memiliki karakter yang lebih rumit seperti bahasa Eropa.\"], [\"andri\", \"maka anda memerlukan lebih banyak tombol Jadi mungkin.\"], [\"yoga\", \"dan kemudian semua hal internasional lainnya berada diatas harga.\"], [\"yoga\", \"mungkin menarik untuk pasar tertentu di suatu wilayah sedangkan di wilayah lain akan berbeda.\"], [\"yoga\", \"statistik dari posisi Podi produk dasar yang adil atau sama.\"], [\"yoga\", \"suatu sesuatu seperti itu.\"], [\"rahmad\", \"seperti dalam hal seperti kekayaan negara seperti seberapa banyak uang yang harus dikeluarkan orang untuk hal-hal seperti.\"], [\"rahmad\", \"harus menulis semua ini.\"], [\"yoga\", \"jauh saya membuat beberapa asumsi tentang informasi.\"], [\"yoga\", \"apa yang kami berikan disini berpikir trendy mungkin berarti sesuatu yang lain dari sekedar dasar sesuatu yang lain dari sekedar standar.\"], [\"rahmad\", \"seperti Berapa biaya remote control.\"], [\"rahmad\", \"ada yang punya sesuatu untuk ditambahkan ke masalah keuangan.\"], [\"yoga\", \"Apakah kita memiliki informasi latar belakang lain seperti bagaimana dibandingkan dengan yang lain.\"], [\"rahmad\", \"sebenarnya yang akan berguna meskipun bukan jika anda tahu seperti apa uang anda yang akan mendapat.\"], [\"yoga\", \"hal yang menarik tentang mendiskusikan produksi remote control bagi saya adalah bahwa Seperti yang anda tunjukkan Jangan menganggap remote control sebagai sesuatu yang secara sadar dinilai orang dalam kebiasaan pembelian mereka.\"], [\"yoga\", \"seperti mendapatkan tali sepatu dengan sepatu.\"], [\"yoga\", \"itu datang begitu saja.\"], [\"rahmad\", \"5 menit Menuju Akhir pertemuan kita sedikit di belakang.\"], [\"yoga\", \"seperti Bagaimana anda salah satu cara untuk melihatnya orang-orang memproduksi televisi mereka harus membeli remote control atau cara lain adalah orang-orang memilih TV set benar-benar muak dengan remote control mereka dan mereka benar-benar menginginkan yang lebih baik.\"], [\"muizz\", \"bagi mereka itu hanya beberapa banyak perangkat kontrol.\"], [\"yoga\", \"jadi jadi dalam fungsi salah satu prioritas mungkin untuk menggabungkan banyak kegunaan jadi.\"], [\"rahmad\", \"jadi Menurut Anda itu harus seperti tujuan desain utama remote control kami.\"], [\"yoga\", \"seperti yang bisa kita gunakan adalah seperti contoh teknologi bagian lain yang sukses adalah pilot sawit.\"], [\"yoga\", \"berubah dari hanya.\"], [\"yoga\", \"segalanya agenda.\"], [\"rahmad\", \"bahkan seperti catatan tentang apa yang ingin anda tonton.\"], [\"yoga\", \"seperti secara pribadi bagi saya di rumah saya telah menggabungkan video audio dari pesawat Televisi saya.\"], [\"yoga\", \"bahwa kemudian mereka ada di sana suara dan semuanya itu hanya satu sistem.\"], [\"yoga\", \"bagian kecilnya sendiri.\"], [\"rahmad\", \"akan baik.\"], [\"rahmad\", \"ingin ditambah apa yang tidak mereka sukai tentang kendali jarak jauh yang telah mereka gunakan Apa yang sebenarnya mereka inginkan untuk menjadi bagian dari yang baru ini.\"], [\"andri\", \"dengan canda terus kehilangan mereka.\"], [\"rahmad\", \"terus kehilangan mereka.\"], [\"andri\", \"kamu kan mereka benar-benar menyakitkan itu biasanya cukup kecil atau Ketika anda menginginkannya itu tergelincir di belakang sofa atau ditendang di bawah meja.\"], [\"rahmad\", \"bukan mereka belajar menyakitkan biasanya kecil atau.\"], [\"rahmad\", \"Anda mendapatkan orang-orang Dimana anda bisa jika anda suka bersiul atau membuat suara bernada sangat tinggi mereka berbunyi B.\"], [\"yoga\", \"itu hanya ide yang sangat bagus.\"], [\"rahmad\", \"ada sesuatu yang ingin kami sertakan menurut anda.\"], [\"yoga\", \"ingat ketika remote control pertama yang dimiliki keluarga saya menggunakan kabel.\"], [\"yoga\", \"tentang apa mereka sekarang itu lebih baik tapi sebenarnya masih seperti barang rongsokan besar di atas meja.\"], [\"rahmad\", \"masih terasa cukup primitif.\"], [\"yoga\", \"kita bisa memikirkan bagaimana biar bisa lebih efisien.\"], [\"rahmad\", \"layar sentuh.\"], [\"rahmad\", \"terserah designer industri kami.\"], [\"rahmad\", \"itu terlihat lebih baik.\"], [\"rahmad\", \"sekarang dan nanti sebagai desainer industri anda akan mengerjakan desain kerja yang sebenarnya jadi apa yang anda lakukan di sana untuk antarmuka pengguna fungsi teknis seperti yang telah kita bicarakan Apa yang sebenarnya anda lakukan dalam eksekutif pemasaran anda hanya akan berpikir tentang apa sebenarnya itu persyaratan apa yang harus dipenuhi dan semua akan mendapatkan instruksi yang dikirim melalui email kepada anda.\"], [\"rahmad\", \"fungsional berikutnya dan itulah akhir pertemuan jadi dapatkan pesan kecil itu lebih cepat dari yang seharusnya jadi.\"], [\"yoga\", \"belum kita selesai.\"], [\"yoga\", \"beri contoh mesin kopi.\"], [\"yoga\", \"kita sekarang berada pada asumsi bahwa remote control televisi kita mungkin memiliki fitur yang melampaui televisi atau apakah kita menjaga komitmen desain seperti fitur televisi.\"], [\"rahmad\", \"saya sangat cepat karena kita harus menyelesaikannya sekarang.\"], [\"rahmad\", \"itu terserah kami anda mungkin ingin beberapa nilai jual yang unik jadi.\"], [\"andri\", \"salah satu faktornya adalah biaya produksi.\"], [\"andri\", \"karena ada batasnya Jadi tergantung seberapa banyak Anda bisa menjejalkan kedalam harga itu bahwa itu mau.\"], [\"rahmad\", \"kita kan itu pakai pertemuan kemudian.\"], [\"rahmad\", \"semua untuk datang.\"]]\n"
     ]
    }
   ],
   "source": [
    "x = (sentencee)\n",
    "y = json.dumps(x)\n",
    "print(y)"
   ]
  },
  {
   "cell_type": "code",
   "execution_count": 14,
   "id": "bd797959",
   "metadata": {},
   "outputs": [
    {
     "name": "stdout",
     "output_type": "stream",
     "text": [
      "('andri', 'selamat siang.')\n",
      "('andri', 'halo.')\n",
      "('andri', 'Nindy.')\n",
      "('andri', 'toko baju sing melu.')\n",
      "('andri', 'Kenalkan nama saya Joko.')\n",
      "('yoga', 'cek cek cek.')\n",
      "('andri', 'ngomong opo.')\n",
      "('andri', 'Terjemahkan sini terus ngomong sih.')\n",
      "('andri', 'pakai bahasa Indonesia terus ngecek dulu apa namanya suaranya masuk ke Trans apa enggak Soalnya ke transfer dari tadi nama Kuto.')\n",
      "('andri', '10 detik aja Udin.')\n",
      "('andri', 'bentar ya.')\n",
      "('andri', 'Yoga.')\n",
      "('andri', 'ini Mas sama-sama ya.')\n",
      "('yoga', 'halo.')\n",
      "('yoga', 'Udan deres karo angin.')\n",
      "('andri', 'cuaca.')\n",
      "('andri', 'kau keong racun.')\n",
      "('andri', 'telur.')\n",
      "('andri', 'selamat sore.')\n",
      "('yoga', 'selamat.')\n",
      "('andri', 'Ayo kita ke angkringan sebelah.')\n",
      "('muizz', 'selamat sore.')\n",
      "('muizz', 'Horas bah.')\n",
      "('muizz', 'aku teh.')\n",
      "('andri', 'mungkin ini akan segera dimulai.')\n",
      "('andri', 'untuk mempersiapkan diri.')\n",
      "('muizz', 'cek cek.')\n",
      "('muizz', 'Halo Halo Neng.')\n",
      "('muizz', 'internet tekan orang.')\n",
      "('muizz', 'Nikki Bella.')\n",
      "('andri', 'bentar aku ngecek dulu ya Tes tes tes.')\n",
      "('muizz', 'Assalamualaikum warahmatullahi wabarakatuh.')\n",
      "('rahmad', 'saya.')\n",
      "('muizz', 'lebay aku.')\n",
      "('rahmad', 'kurang Tengah kok.')\n",
      "('rahmad', 'gantian.')\n",
      "('rahmad', 'kurang Tengah ini adalah pertemuan awal untuk.')\n",
      "('muizz', 'kurang Tengah ini adalah pertemuan awal untuk proyek Dhani.')\n",
      "('rahmad', 'hanya untuk membuat kita saling mengenal saya Laura dan saya manajer proyek mau-mau memperkenalkan diri lagi.')\n",
      "('rahmad', 'mulai.')\n",
      "('rahmad', 'ulang ulang ulang ulang.')\n",
      "('rahmad', 'mau memperkenalkan diri lagi.')\n",
      "('andri', 'Hai saya David dan Raya seharusnya menjadi disainer industri.')\n",
      "('muizz', 'Saya baik dan saya antarmuka pengguna.')\n",
      "('rahmad', 'kami merancang remote control baru dan harus merekam Siapa sebenarnya yang ada di sini.')\n",
      "('rahmad', 'embrio dan trik bukan dan anda semua tiba tepat waktu.')\n",
      "('rahmad', 'remote control baru seperti yang Anda lihat itu seharusnya asli trendy dan ramah pengguna jadi itu singkat kami seolah-olah dan jadi ada tiga tahap yang berbeda untuk desain Saya tidak benar-benar apa yang telah anda terima di email anda.')\n",
      "('rahmad', 'apa yang kamu dapatkan.')\n",
      "('rahmad', 'Apakah itu yang semua orang dapatkan.')\n",
      "('yoga', 'pikir keluarga saya.')\n",
      "('muizz', 'berada di atas sana bersama mereka.')\n",
      "('andri', 'ada terlalu banyak peralatan.')\n",
      "('rahmad', 'Anda dapat mengambil selama ini yang anda suka karena kita tidak punya banyak hal untuk dibahas.')\n",
      "('yoga', 'bisa memberitahu anda lebih banyak tentang anjing.')\n",
      "('yoga', 'Tiger.')\n",
      "('rahmad', 'Kenapa tidak kita mungkin harus membangunkanmu lagi.')\n",
      "('yoga', 'biarkan aku memberitahumu.')\n",
      "('rahmad', 'familiku Aku Harus berpikir di tempat sekarang apakah itu Paus.')\n",
      "('andri', 'lagi pula itu hanya hewan pertama yang berpikir dari atas kepalaku.')\n",
      "('andri', 'alasan utamanya adalah karena saya alergi terhadap sebagian besar hewan terhadap bulu binatang jadi ikan adalah pilihan alami dan seperti ikan paus mereka masuk dan pergi makan segala sesuatu yang terlihat dan mereka cukup tidak berbahaya dan ringan dan menarik.')\n",
      "('rahmad', 'apa yang saya akan menulis tentang.')\n",
      "('yoga', 'yang luar biasa omong-omong.')\n",
      "('andri', 'agak besar.')\n",
      "('rahmad', 'akan memilih anjing sebagai tapi saya hanya akan menggambar anjing yang berbeda hewan favorit saya adalah anjing saya sendiri di rumah.')\n",
      "('yoga', 'melihat anjing disana.')\n",
      "('rahmad', 'sangat baik darimu.')\n",
      "('yoga', 'sekarang lihat ayam jago.')\n",
      "('rahmad', 'campuran dari berbagai hal dan apa yang disukai tentang dia itu hanya untuk menunjukkan bahwa ekornya bergoyang Dia sangat ramah dan ceria dan selalu senang melihat anda dan sangat penyayang dan dia cukup kecil sehingga dia tidak memakan terlalu banyak ruang dan dia melakukan hal lucu dimana dia mengejar ekornya yang cukup jadi begitulah.')\n",
      "('yoga', 'Apakah dia sadar bahwa itu adalah ekor hanya sendiri yang dia kejar.')\n",
      "('rahmad', 'hanya melakukan Setelah dia makan malam dan dia akan tiba-tiba bangun dan mulai mengejar ekornya di sekitar ruang tamu.')\n",
      "('rahmad', 'itu anjing.')\n",
      "('andri', 'itu anjing setelah makan malam.')\n",
      "('yoga', 'mungkin ketika dia masih kecil dia mendapat banyak Perhatian untuk melakukannya.')\n",
      "('yoga', 'dan telah selamanya dikondisikan.')\n",
      "('rahmad', 'membahas pembiayaan proyek.')\n",
      "('rahmad', 'itu pertanyaan yang bagus.')\n",
      "('rahmad', 'mainkan itu mungkin penjualan Kami sebenarnya karena mungkin terserah pengecer untuk menjualnya dengan harga berapa pun yang mereka inginkan tapi apakah menurut fakta bahwa itu akan dijual secara internasional dan akan berpengaruh pada Bagaimana kami mendesain ya.')\n",
      "('rahmad', 'daerah dan.')\n",
      "('yoga', 'frekuensi sebagai karakter gaya dan simbol keypad yang berbeda.')\n",
      "('rahmad', 'frekuensi sebagai karakter gaya yang berbeda.')\n",
      "('rahmad', 'remote control kira-kira itu tergantung seberapa rumit remot kontrol kita.')\n",
      "('andri', 'itu masuk akal dari sudut pandang desain karena memiliki karakter yang lebih rumit seperti bahasa Eropa.')\n",
      "('andri', 'maka anda memerlukan lebih banyak tombol Jadi mungkin.')\n",
      "('yoga', 'dan kemudian semua hal internasional lainnya berada diatas harga.')\n",
      "('yoga', 'mungkin menarik untuk pasar tertentu di suatu wilayah sedangkan di wilayah lain akan berbeda.')\n",
      "('yoga', 'statistik dari posisi Podi produk dasar yang adil atau sama.')\n",
      "('yoga', 'suatu sesuatu seperti itu.')\n",
      "('rahmad', 'seperti dalam hal seperti kekayaan negara seperti seberapa banyak uang yang harus dikeluarkan orang untuk hal-hal seperti.')\n",
      "('rahmad', 'harus menulis semua ini.')\n",
      "('yoga', 'jauh saya membuat beberapa asumsi tentang informasi.')\n",
      "('yoga', 'apa yang kami berikan disini berpikir trendy mungkin berarti sesuatu yang lain dari sekedar dasar sesuatu yang lain dari sekedar standar.')\n",
      "('rahmad', 'seperti Berapa biaya remote control.')\n",
      "('rahmad', 'ada yang punya sesuatu untuk ditambahkan ke masalah keuangan.')\n",
      "('yoga', 'Apakah kita memiliki informasi latar belakang lain seperti bagaimana dibandingkan dengan yang lain.')\n",
      "('rahmad', 'sebenarnya yang akan berguna meskipun bukan jika anda tahu seperti apa uang anda yang akan mendapat.')\n",
      "('yoga', 'hal yang menarik tentang mendiskusikan produksi remote control bagi saya adalah bahwa Seperti yang anda tunjukkan Jangan menganggap remote control sebagai sesuatu yang secara sadar dinilai orang dalam kebiasaan pembelian mereka.')\n",
      "('yoga', 'seperti mendapatkan tali sepatu dengan sepatu.')\n",
      "('yoga', 'itu datang begitu saja.')\n",
      "('rahmad', '5 menit Menuju Akhir pertemuan kita sedikit di belakang.')\n",
      "('yoga', 'seperti Bagaimana anda salah satu cara untuk melihatnya orang-orang memproduksi televisi mereka harus membeli remote control atau cara lain adalah orang-orang memilih TV set benar-benar muak dengan remote control mereka dan mereka benar-benar menginginkan yang lebih baik.')\n",
      "('muizz', 'bagi mereka itu hanya beberapa banyak perangkat kontrol.')\n",
      "('yoga', 'jadi jadi dalam fungsi salah satu prioritas mungkin untuk menggabungkan banyak kegunaan jadi.')\n",
      "('rahmad', 'jadi Menurut Anda itu harus seperti tujuan desain utama remote control kami.')\n",
      "('yoga', 'seperti yang bisa kita gunakan adalah seperti contoh teknologi bagian lain yang sukses adalah pilot sawit.')\n",
      "('yoga', 'berubah dari hanya.')\n",
      "('yoga', 'segalanya agenda.')\n",
      "('rahmad', 'bahkan seperti catatan tentang apa yang ingin anda tonton.')\n",
      "('yoga', 'seperti secara pribadi bagi saya di rumah saya telah menggabungkan video audio dari pesawat Televisi saya.')\n",
      "('yoga', 'bahwa kemudian mereka ada di sana suara dan semuanya itu hanya satu sistem.')\n",
      "('yoga', 'bagian kecilnya sendiri.')\n",
      "('rahmad', 'akan baik.')\n",
      "('rahmad', 'ingin ditambah apa yang tidak mereka sukai tentang kendali jarak jauh yang telah mereka gunakan Apa yang sebenarnya mereka inginkan untuk menjadi bagian dari yang baru ini.')\n",
      "('andri', 'dengan canda terus kehilangan mereka.')\n",
      "('rahmad', 'terus kehilangan mereka.')\n",
      "('andri', 'kamu kan mereka benar-benar menyakitkan itu biasanya cukup kecil atau Ketika anda menginginkannya itu tergelincir di belakang sofa atau ditendang di bawah meja.')\n",
      "('rahmad', 'bukan mereka belajar menyakitkan biasanya kecil atau.')\n",
      "('rahmad', 'Anda mendapatkan orang-orang Dimana anda bisa jika anda suka bersiul atau membuat suara bernada sangat tinggi mereka berbunyi B.')\n",
      "('yoga', 'itu hanya ide yang sangat bagus.')\n",
      "('rahmad', 'ada sesuatu yang ingin kami sertakan menurut anda.')\n",
      "('yoga', 'ingat ketika remote control pertama yang dimiliki keluarga saya menggunakan kabel.')\n",
      "('yoga', 'tentang apa mereka sekarang itu lebih baik tapi sebenarnya masih seperti barang rongsokan besar di atas meja.')\n",
      "('rahmad', 'masih terasa cukup primitif.')\n",
      "('yoga', 'kita bisa memikirkan bagaimana biar bisa lebih efisien.')\n",
      "('rahmad', 'layar sentuh.')\n",
      "('rahmad', 'terserah designer industri kami.')\n",
      "('rahmad', 'itu terlihat lebih baik.')\n",
      "('rahmad', 'sekarang dan nanti sebagai desainer industri anda akan mengerjakan desain kerja yang sebenarnya jadi apa yang anda lakukan di sana untuk antarmuka pengguna fungsi teknis seperti yang telah kita bicarakan Apa yang sebenarnya anda lakukan dalam eksekutif pemasaran anda hanya akan berpikir tentang apa sebenarnya itu persyaratan apa yang harus dipenuhi dan semua akan mendapatkan instruksi yang dikirim melalui email kepada anda.')\n",
      "('rahmad', 'fungsional berikutnya dan itulah akhir pertemuan jadi dapatkan pesan kecil itu lebih cepat dari yang seharusnya jadi.')\n",
      "('yoga', 'belum kita selesai.')\n",
      "('yoga', 'beri contoh mesin kopi.')\n",
      "('yoga', 'kita sekarang berada pada asumsi bahwa remote control televisi kita mungkin memiliki fitur yang melampaui televisi atau apakah kita menjaga komitmen desain seperti fitur televisi.')\n",
      "('rahmad', 'saya sangat cepat karena kita harus menyelesaikannya sekarang.')\n",
      "('rahmad', 'itu terserah kami anda mungkin ingin beberapa nilai jual yang unik jadi.')\n",
      "('andri', 'salah satu faktornya adalah biaya produksi.')\n",
      "('andri', 'karena ada batasnya Jadi tergantung seberapa banyak Anda bisa menjejalkan kedalam harga itu bahwa itu mau.')\n",
      "('rahmad', 'kita kan itu pakai pertemuan kemudian.')\n",
      "('rahmad', 'semua untuk datang.')\n"
     ]
    }
   ],
   "source": [
    "sentencee = re.findall(r'([a-zA-Z]+)\\:([\\w]+[\\D]+\\.)',docu)\n",
    "for i in sentencee:\n",
    "    print (i)"
   ]
  },
  {
   "cell_type": "code",
   "execution_count": 15,
   "id": "f3d7fa83",
   "metadata": {},
   "outputs": [],
   "source": [
    "data = {}\n",
    "for i in sorted(set(sentencee)):\n",
    "    for j in (sentencee):\n",
    "        name = i[0]\n",
    "        isi = i[1]\n",
    "       \n",
    "        info = {\"nama\": name, \"isi\": isi}\n",
    "        \n",
    "        datanya = {\"Percakapan \": info}\n",
    "        \n",
    "\n",
    "with open(\"My Record80.json\", \"w\") as out_file:\n",
    "    json.dump(datanya, out_file, indent = 4, sort_keys=True)\n",
    "    out_file.close()"
   ]
  },
  {
   "cell_type": "code",
   "execution_count": null,
   "id": "07bcdfe4",
   "metadata": {},
   "outputs": [],
   "source": [
    "for n in sentence:\n",
    "#     nama = \"\"\n",
    "#     field = \"\"\n",
    "    nama += (n[0])\n",
    "    field += (n[1])\n",
    "    \n",
    "#     bakal_isi = [name, isi]\n",
    "    \n",
    "i = 0\n",
    "while i>len(sentence):             \n",
    "# creating dictionary for each employee\n",
    "    person = {\"nama\": nama, \"isi\": field}\n",
    "       \n",
    "    dataku = {\"Percakapan \" : [person]}\n",
    "    i = i + 1 \n",
    "#dict2[fields[i]]= description[i]\n",
    "        \n",
    "    \n",
    "#     person_json = ({\"nama\": name, \"isi\": isi})\n",
    "#     print += (name, isi)    \n",
    "# person_json = {\"isi\": (n[1]), \"nama\": (n[0])}\n",
    "    \n",
    "out_file = open(\"My Record43.json\", \"w\")\n",
    "json.dump(dataku, out_file, indent = 4, sort_keys=True)\n",
    "out_file.close()\n",
    "    \n",
    "# a = '{\"name\":,[0] , \"languages\":, [1]}'\n",
    "\n",
    "# fields =[[0], [1]]\n",
    "# j = json.dumps(sentences, indent= 2, sort_keys=True, separators=({\"Nama : \",\"isi :\"}))\n",
    "# with open('My Record06.json', 'w' ) as paragrap:\n",
    "#     paragrap.write(j)\n",
    "#     paragrap.close()"
   ]
  },
  {
   "cell_type": "code",
   "execution_count": null,
   "id": "68a3e138",
   "metadata": {},
   "outputs": [],
   "source": [
    "# # name = (n[0])\n",
    "# # isi= (n[1])\n",
    "# i = 0\n",
    "# # bakal_isi = [name, isi]\n",
    "# w = (sentence)\n",
    "# while i < len(w):\n",
    "#     name = w[0]\n",
    "#     isi = w[1]\n",
    "#     person_json = {\"nama\": name, \"isi\": isi}\n",
    "# #     i += 1\n",
    "        \n",
    "# #     datanya = {\"Percakapan \" : person_json}\n",
    "    \n",
    "# out_file = open(\"My Record36.json\", \"w\")\n",
    "# json.dump(w, out_file, indent = 4, sort_keys=True)\n",
    "# out_file.close()"
   ]
  },
  {
   "cell_type": "code",
   "execution_count": null,
   "id": "988f370b",
   "metadata": {},
   "outputs": [],
   "source": [
    "# file = (\"Record.docx\", \"r\")\n",
    "\n",
    "dict = {}\n",
    "\n",
    "with open(\"Record.docx\", \"r\") as paragraphs:\n",
    "        for d in paragraphs:\n",
    "            key, desc = d.strip().split()\n",
    "            dict[key] = desc.strip()\n",
    "        \n",
    "outfile = open(\"My record0033.json\", \"w\")\n",
    "json.dump(dict,outfile)\n",
    "outfile.close()"
   ]
  },
  {
   "cell_type": "code",
   "execution_count": null,
   "id": "66aa2701",
   "metadata": {},
   "outputs": [],
   "source": [
    "# Opening JSON file\n",
    "f = open('Data Contoh.json')\n",
    " \n",
    "# returns JSON object as\n",
    "# a dictionary\n",
    "data = json.loads(fileobject.read(f))\n",
    " \n",
    "# Iterating through the json\n",
    "# list\n",
    "for i in data['emp_details']:\n",
    "    print(i)\n",
    " \n",
    "# Closing file\n",
    "f.close()"
   ]
  },
  {
   "cell_type": "code",
   "execution_count": null,
   "id": "91c6a1e7",
   "metadata": {},
   "outputs": [],
   "source": [
    "def write_json(new_data, filename='data.json'):\n",
    "    with open(filename,'r+') as file:\n",
    "          # First we load existing data into a dict.\n",
    "        file_data = json.load(file)\n",
    "        # Join new_data with file_data inside emp_details\n",
    "        file_data[\"emp_details\"].append(new_data)\n",
    "        # Sets file's current position at offset.\n",
    "        file.seek(0)\n",
    "        # convert back to json.\n",
    "        json.dump(file_data, file, indent = 2)\n",
    " \n",
    "    # python object to be appended\n",
    "y = docx.Document()\n",
    "     \n",
    "write_json(y)"
   ]
  },
  {
   "cell_type": "code",
   "execution_count": null,
   "id": "c25832ca",
   "metadata": {},
   "outputs": [],
   "source": [
    "# resultant dictionary\n",
    "dict1 = {}\n",
    "  \n",
    "# fields in the sample file \n",
    "fields =[name, isi]\n",
    "  \n",
    "for sentences in paragraphs:\n",
    "    doc = docx.Document()\n",
    "    \n",
    "      \n",
    "    # count variable for employee id creation\n",
    "    l = 1\n",
    "      \n",
    "    for paragraph in doc.paragraphs:\n",
    "          \n",
    "        # reading line by line from the text file\n",
    "        description = list( paragraph.strip().split(None, 2))\n",
    "          \n",
    "        # for output see below\n",
    "        print(description)\n",
    "          \n",
    "        # for automatic creation of id for each employee\n",
    "        sno ='emp'+str(l)\n",
    "      \n",
    "        # loop variable\n",
    "        i = 0\n",
    "        # intermediate dictionary\n",
    "        dict2 = {}\n",
    "        while i<len(fields):\n",
    "              \n",
    "                # creating dictionary for each employee\n",
    "                dict2[fields[i]]= description[i]\n",
    "                i = i + 1\n",
    "                  \n",
    "        # appending the record of each employee to\n",
    "        # the main dictionary\n",
    "        dict1[sno]= dict2\n",
    "        l = l + 1\n",
    "  \n",
    "  \n",
    "# creating json file        \n",
    "out_file = open(\"test5.json\", \"w\")\n",
    "json.dump(dict1, out_file, indent = 2)\n",
    "out_file.close()"
   ]
  },
  {
   "cell_type": "code",
   "execution_count": null,
   "id": "284a54e3",
   "metadata": {},
   "outputs": [],
   "source": [
    "print(text)"
   ]
  },
  {
   "cell_type": "code",
   "execution_count": null,
   "id": "5aed1cf1",
   "metadata": {},
   "outputs": [],
   "source": [
    "map_ = {}\n",
    "for i in range(1,len(text),2):\n",
    "    map_[text[i-1]] = map_.get(text[i-1],'') + text[i]"
   ]
  },
  {
   "cell_type": "code",
   "execution_count": 16,
   "id": "1fa9368c",
   "metadata": {},
   "outputs": [
    {
     "name": "stdout",
     "output_type": "stream",
     "text": [
      "Mr. Smith bought cheapsite.com for 1.5 million dollars, i.e. he paid a lot for it.\n",
      "Did he mind?\n",
      "Adam Jones Jr. thinks he didn't.\n",
      "In any case, this isn't true...\n",
      "Well, with a probability of .9 it isn't.\n"
     ]
    }
   ],
   "source": [
    "s = \"\"\"Mr. Smith bought cheapsite.com for 1.5 million dollars, i.e. he paid a lot for it. Did he mind? Adam Jones Jr. thinks he didn't. In any case, this isn't true... Well, with a probability of .9 it isn't.\"\"\"\n",
    "m = re.split(r'(?<=[^A-Z].[.?]) +(?=[A-Z])', s)\n",
    "for x in m:\n",
    "    print (x)"
   ]
  },
  {
   "cell_type": "code",
   "execution_count": null,
   "id": "64678bfc",
   "metadata": {},
   "outputs": [],
   "source": [
    "print = (\"Input Biodata\")\n",
    "print = (\"=================================\")\n",
    "\n",
    "# Ambil input dari user\n",
    "nama = input(\"Nama: \")\n",
    "umur = input(\"Umur: \")\n",
    "alamat = input(\"Alamat: \")\n",
    "\n",
    "# format teks\n",
    "teks = \"\\nNama: {}\\nUmur: {}\\nAlamat: {}\\n----------\".format(nama, umur, alamat)\n",
    "\n",
    "# buka file untuk ditulis\n",
    "file_bio = open(\"biodata.txt\", \"a\")\n",
    "\n",
    "# tulis teks ke file\n",
    "file_bio.write(teks)\n",
    "\n",
    "# tutup file\n",
    "file_bio.close()"
   ]
  },
  {
   "cell_type": "code",
   "execution_count": null,
   "id": "56b5bc1a",
   "metadata": {},
   "outputs": [],
   "source": [
    "print = ('hello world')"
   ]
  },
  {
   "cell_type": "code",
   "execution_count": null,
   "id": "1e85db8b",
   "metadata": {},
   "outputs": [],
   "source": [
    "import nltk\n",
    "from nltk.tokenize import word_tokenize\n",
    "\n",
    "doc = open(\"Record.docx\",\"rb\")\n",
    "\n",
    "# membuat word reader object\n",
    "document = docx.Document(doc)\n",
    "\n",
    "#membuat variabel yang kosong untuk temporary\n",
    "docux=\"\"\n",
    "for para in document.paragraphs:\n",
    "       docux += para.text\n",
    "        \n",
    "tokens = nltk.tokenize.sent_tokenize(docux)\n",
    "# tokens = nltk.tokenize.word_tokenize(docux)"
   ]
  },
  {
   "cell_type": "code",
   "execution_count": null,
   "id": "8a21902d",
   "metadata": {},
   "outputs": [],
   "source": [
    "sentencex = re.findall(r'([a-zA-Z]+)\\:([\\w]+[\\D]+\\.)',tokens)"
   ]
  },
  {
   "cell_type": "code",
   "execution_count": null,
   "id": "6a0e13ea",
   "metadata": {},
   "outputs": [],
   "source": [
    "# tokens = nltk.tokenize.word_tokenize(sentencex)\n",
    "y = json.dumps(tokens)\n",
    "print(y)"
   ]
  },
  {
   "cell_type": "code",
   "execution_count": null,
   "id": "487f61c2",
   "metadata": {},
   "outputs": [],
   "source": [
    "nltk.download('punkt')"
   ]
  },
  {
   "cell_type": "code",
   "execution_count": 3,
   "id": "83a618ed",
   "metadata": {},
   "outputs": [
    {
     "name": "stdout",
     "output_type": "stream",
     "text": [
      "[('Andi', 5), ('atau', 4), ('rutin', 2), ('Rutin', 1), ('kerap', 1), ('melakukan', 1), ('transaksi', 1), ('secara', 1), ('daring', 1), ('online', 1), ('.', 1)]\n"
     ]
    }
   ],
   "source": [
    "import nltk\n",
    "import string\n",
    "from nltk.tokenize import word_tokenize\n",
    "from nltk.probability import FreqDist\n",
    " \n",
    "kalimate = \"Andi Andi Andi Andi Andi atau atau atau Rutin rutin kerap melakukan transaksi rutin secara daring atau online.\"\n",
    "# kalimat = kalimat.translate(str.maketrans('','',string.punctuation)).lower()\n",
    "\n",
    "# tokens = nltk.tokenize.word_tokenize(kalimat)\n",
    "# print(tokens)\n",
    "\n",
    "tokens = nltk.tokenize.word_tokenize(kalimate)\n",
    "kemunculan = nltk.FreqDist(tokens)\n",
    "print(kemunculan.most_common())"
   ]
  },
  {
   "cell_type": "code",
   "execution_count": null,
   "id": "d454640f",
   "metadata": {},
   "outputs": [],
   "source": [
    "import matplotlib.pyplot as plt\n",
    "\n",
    "kemunculan.plot(30,cumulative=False)\n",
    "plt.show()"
   ]
  },
  {
   "cell_type": "code",
   "execution_count": null,
   "id": "eb01b7ed",
   "metadata": {},
   "outputs": [],
   "source": [
    "from nltk.tokenize import sent_tokenize\n",
    "\n",
    "kalimat = \"Andi kerap melakukan transaksi rutin secara daring atau online. Menurut Andi belanja online lebih praktis & murah.\"\n",
    " \n",
    "tokens = nltk.tokenize.sent_tokenize(kalimat)\n",
    "print(tokens)"
   ]
  },
  {
   "cell_type": "code",
   "execution_count": 5,
   "id": "1cc2fa8c",
   "metadata": {},
   "outputs": [
    {
     "name": "stdout",
     "output_type": "stream",
     "text": [
      "['andi', 'kerap', 'melakukan', 'transaksi', 'rutin', 'daring', 'andi', 'belanja', 'online', 'lebih', 'praktis', 'murah']\n"
     ]
    }
   ],
   "source": [
    "from Sastrawi.StopWordRemover.StopWordRemoverFactory import StopWordRemoverFactory, StopWordRemover, ArrayDictionary\n",
    "from nltk.tokenize import word_tokenize \n",
    "    \n",
    "# ambil stopword bawaan\n",
    "stop_factory = StopWordRemoverFactory().get_stop_words()\n",
    "more_stopword = ['daring', 'online']\n",
    "\n",
    "kalimat = \"Andi kerap melakukan transaksi rutin secara daring atau online. Menurut Andi belanja online lebih praktis & murah.\"\n",
    "kalimat = kalimat.translate(str.maketrans('','',string.punctuation)).lower()\n",
    "\n",
    "# menggabungkan stopword\n",
    "data = stop_factory + more_stopword\n",
    " \n",
    "dictionary = ArrayDictionary(data)\n",
    "str = StopWordRemover(dictionary)\n",
    "tokens = nltk.tokenize.word_tokenize(str.remove(kalimat))\n",
    " \n",
    "print(tokens)"
   ]
  },
  {
   "cell_type": "code",
   "execution_count": null,
   "id": "a8d16918",
   "metadata": {},
   "outputs": [],
   "source": [
    "from nltk.stem import PorterStemmer    \n",
    "ps = PorterStemmer() \n",
    "\n",
    "kata = [\"program\", \"programs\", \"programer\", \"programing\", \"programers\"] \n",
    "  \n",
    "for k in kata: \n",
    "    print(k, \" : \", ps.stem(k))"
   ]
  },
  {
   "cell_type": "markdown",
   "id": "98c07345",
   "metadata": {},
   "source": [
    "NLTK Filtering using Sastrawi"
   ]
  },
  {
   "cell_type": "code",
   "execution_count": 4,
   "id": "d67fb9cd",
   "metadata": {},
   "outputs": [
    {
     "name": "stdout",
     "output_type": "stream",
     "text": [
      "['andi', 'kerap', 'melakukan', 'transaksi', 'rutin', 'daring', 'online', 'andi', 'belanja', 'online', 'lebih', 'praktis', 'murah']\n"
     ]
    }
   ],
   "source": [
    "from Sastrawi.StopWordRemover.StopWordRemoverFactory import StopWordRemoverFactory\n",
    "from nltk.tokenize import word_tokenize \n",
    "\n",
    "factory = StopWordRemoverFactory()\n",
    "stopword = factory.create_stop_word_remover()\n",
    "\n",
    "kalimat = \"Andi kerap melakukan transaksi rutin secara daring atau online. Menurut Andi belanja online lebih praktis & murah.\"\n",
    "kalimat = kalimat.translate(str.maketrans('','',string.punctuation)).lower()\n",
    "\n",
    "stop = stopword.remove(kalimat)\n",
    "tokens = nltk.tokenize.word_tokenize(stop)\n",
    "\n",
    "print(tokens)"
   ]
  },
  {
   "cell_type": "code",
   "execution_count": null,
   "id": "f11bbb94",
   "metadata": {},
   "outputs": [],
   "source": []
  }
 ],
 "metadata": {
  "kernelspec": {
   "display_name": "Python 3",
   "language": "python",
   "name": "python3"
  },
  "language_info": {
   "codemirror_mode": {
    "name": "ipython",
    "version": 3
   },
   "file_extension": ".py",
   "mimetype": "text/x-python",
   "name": "python",
   "nbconvert_exporter": "python",
   "pygments_lexer": "ipython3",
   "version": "3.8.8"
  }
 },
 "nbformat": 4,
 "nbformat_minor": 5
}
